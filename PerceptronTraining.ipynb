{
  "nbformat": 4,
  "nbformat_minor": 0,
  "metadata": {
    "colab": {
      "name": "PerceptronTraining",
      "provenance": [],
      "authorship_tag": "ABX9TyNtU/eqOzgIJI0HQv5EQA5O",
      "include_colab_link": true
    },
    "kernelspec": {
      "name": "python3",
      "display_name": "Python 3"
    },
    "language_info": {
      "name": "python"
    }
  },
  "cells": [
    {
      "cell_type": "markdown",
      "metadata": {
        "id": "view-in-github",
        "colab_type": "text"
      },
      "source": [
        "<a href=\"https://colab.research.google.com/github/aryashahi/MLnow_2.0/blob/main/PerceptronTraining.ipynb\" target=\"_parent\"><img src=\"https://colab.research.google.com/assets/colab-badge.svg\" alt=\"Open In Colab\"/></a>"
      ]
    },
    {
      "cell_type": "markdown",
      "metadata": {
        "id": "_90EyoJlyUOQ"
      },
      "source": [
        "** Date created ** 5 June 2021\n",
        "Author: [Arya Shahi](https://github.com/aryashahi)\n"
      ]
    },
    {
      "cell_type": "markdown",
      "metadata": {
        "id": "BxeNqJATzjio"
      },
      "source": [
        "#Problem Statement\n",
        "\n",
        "to make a table of 10\n",
        "\n",
        "equation `y=10*x`\n"
      ]
    },
    {
      "cell_type": "markdown",
      "metadata": {
        "id": "-Bkp7Bf9nf7A"
      },
      "source": [
        "## DATA CREATION\n",
        "target -->\n",
        "```\n",
        " x  = [1,2,3,4,5,6,7,8,9,10...]\n",
        "y = [10,20,30,40,50,60,70,80...]\n",
        "```"
      ]
    },
    {
      "cell_type": "code",
      "metadata": {
        "colab": {
          "base_uri": "https://localhost:8080/"
        },
        "id": "U25SRZAGo_TK",
        "outputId": "822e0da9-6b6c-4196-8391-277d69aee777"
      },
      "source": [
        "x =[i for i in range (21)]\n",
        "print (x)\n"
      ],
      "execution_count": 6,
      "outputs": [
        {
          "output_type": "stream",
          "text": [
            "[0, 1, 2, 3, 4, 5, 6, 7, 8, 9, 10, 11, 12, 13, 14, 15, 16, 17, 18, 19, 20]\n"
          ],
          "name": "stdout"
        }
      ]
    },
    {
      "cell_type": "code",
      "metadata": {
        "id": "SwYEGMPFcYA5",
        "colab": {
          "base_uri": "https://localhost:8080/"
        },
        "outputId": "bc61482e-8b65-4954-ccfa-030cca7cfecb"
      },
      "source": [
        "y =[i*10 for i in range (21)]\n",
        "print (y)"
      ],
      "execution_count": 13,
      "outputs": [
        {
          "output_type": "stream",
          "text": [
            "[0, 10, 20, 30, 40, 50, 60, 70, 80, 90, 100, 110, 120, 130, 140, 150, 160, 170, 180, 190, 200]\n"
          ],
          "name": "stdout"
        }
      ]
    },
    {
      "cell_type": "markdown",
      "metadata": {
        "id": "XSoYsR9MHFKv"
      },
      "source": [
        "#approach 1\n",
        "directly without using ml"
      ]
    },
    {
      "cell_type": "code",
      "metadata": {
        "colab": {
          "base_uri": "https://localhost:8080/"
        },
        "id": "PxSD9WQy7XD7",
        "outputId": "8d603a24-bc90-42c4-9fae-d493b47d9007"
      },
      "source": [
        " def TableOf10(x):\n",
        "   y=10*x\n",
        "   return y\n",
        "\n",
        "\n",
        "for val in x :\n",
        "  print(TableOf10(val))\n",
        "\n",
        " "
      ],
      "execution_count": 14,
      "outputs": [
        {
          "output_type": "stream",
          "text": [
            "0\n",
            "10\n",
            "20\n",
            "30\n",
            "40\n",
            "50\n",
            "60\n",
            "70\n",
            "80\n",
            "90\n",
            "100\n",
            "110\n",
            "120\n",
            "130\n",
            "140\n",
            "150\n",
            "160\n",
            "170\n",
            "180\n",
            "190\n",
            "200\n"
          ],
          "name": "stdout"
        }
      ]
    },
    {
      "cell_type": "markdown",
      "metadata": {
        "id": "t_4dZ_xDHPKb"
      },
      "source": [
        "##approach 2\n",
        "\n",
        "using ml reductant model for the table of 10\n",
        "\n",
        "here wiil use terms like `xTrain`, `yTrain`, `xTest`, `yTest` from the `x` `y` list"
      ]
    },
    {
      "cell_type": "code",
      "metadata": {
        "colab": {
          "base_uri": "https://localhost:8080/"
        },
        "id": "7n3NOiZlHO1R",
        "outputId": "76bd5ad9-b683-4ef7-f455-6bec3c57c3a2"
      },
      "source": [
        "print(f'This is x:{x}')\n",
        "print(f'This is y:{y}')"
      ],
      "execution_count": 15,
      "outputs": [
        {
          "output_type": "stream",
          "text": [
            "This is x:[0, 1, 2, 3, 4, 5, 6, 7, 8, 9, 10, 11, 12, 13, 14, 15, 16, 17, 18, 19, 20]\n",
            "This is y:[0, 10, 20, 30, 40, 50, 60, 70, 80, 90, 100, 110, 120, 130, 140, 150, 160, 170, 180, 190, 200]\n"
          ],
          "name": "stdout"
        }
      ]
    },
    {
      "cell_type": "code",
      "metadata": {
        "colab": {
          "base_uri": "https://localhost:8080/"
        },
        "id": "IAxHk95vM1Vm",
        "outputId": "c2e15964-ffed-4814-8623-7b459b8b7f6a"
      },
      "source": [
        "xTrain= x[0:-5]                #Training data\n",
        "yTrain= y[0:-5]                 #Training label\n",
        "\n",
        "xTest= x[-5:]                  #Testing data\n",
        "yTest= y[-5:]                  #Testing label\n",
        "\n",
        "print(f'''\n",
        "xTrain: {xTrain}\n",
        "yTrain: {yTrain}\n",
        "xTest: {xTest} \n",
        "yTest: {yTest}     \n",
        "''')\n"
      ],
      "execution_count": 32,
      "outputs": [
        {
          "output_type": "stream",
          "text": [
            "\n",
            "xTrain: [0, 1, 2, 3, 4, 5, 6, 7, 8, 9, 10, 11, 12, 13, 14, 15]\n",
            "yTrain: [0, 10, 20, 30, 40, 50, 60, 70, 80, 90, 100, 110, 120, 130, 140, 150]\n",
            "xTest: [16, 17, 18, 19, 20] \n",
            "yTest: [160, 170, 180, 190, 200]     \n",
            "\n"
          ],
          "name": "stdout"
        }
      ]
    },
    {
      "cell_type": "code",
      "metadata": {
        "id": "1LlIdxtJSQim"
      },
      "source": [
        "import tensorflow as tf\n",
        "from tensorflow import keras\n"
      ],
      "execution_count": 34,
      "outputs": []
    },
    {
      "cell_type": "code",
      "metadata": {
        "id": "LDwge-8HSp_7"
      },
      "source": [
        "# building perceptron model\n",
        " \n",
        "model=tf.keras.Sequential([\n",
        "                              tf.keras.layers.Dense(units=1,input_shape=[1])   #unit = no. of neuron. input-shape = shape of the input of  the neuron\n",
        "\n",
        " ])"
      ],
      "execution_count": 39,
      "outputs": []
    },
    {
      "cell_type": "code",
      "metadata": {
        "id": "Np8gagCjXtDA"
      },
      "source": [
        "model.compile(optimizer='adam',loss='mae')     #we can use sgd,rmsprop, adamax, adagrad  instead of  (all these are called optimizers)\n",
        "#here we compile the model"
      ],
      "execution_count": 41,
      "outputs": []
    },
    {
      "cell_type": "code",
      "metadata": {
        "colab": {
          "base_uri": "https://localhost:8080/"
        },
        "id": "C9Y0-2dcaI1h",
        "outputId": "ef8aed65-abad-4e8c-97cc-1bc54db2a26d"
      },
      "source": [
        "#tarin the model\n",
        "model.fit(x=xTrain,y=yTrain,validation_data=(xTest,yTest),epochs=50)\n"
      ],
      "execution_count": 47,
      "outputs": [
        {
          "output_type": "stream",
          "text": [
            "Epoch 1/50\n",
            "1/1 [==============================] - 0s 58ms/step - loss: 5.0647e-04 - val_loss: 0.0021\n",
            "Epoch 2/50\n",
            "1/1 [==============================] - 0s 29ms/step - loss: 9.0400e-04 - val_loss: 0.0030\n",
            "Epoch 3/50\n",
            "1/1 [==============================] - 0s 29ms/step - loss: 0.0013 - val_loss: 0.0017\n",
            "Epoch 4/50\n",
            "1/1 [==============================] - 0s 29ms/step - loss: 7.0795e-04 - val_loss: 0.0015\n",
            "Epoch 5/50\n",
            "1/1 [==============================] - 0s 29ms/step - loss: 7.0246e-04 - val_loss: 0.0023\n",
            "Epoch 6/50\n",
            "1/1 [==============================] - 0s 32ms/step - loss: 0.0011 - val_loss: 0.0010\n",
            "Epoch 7/50\n",
            "1/1 [==============================] - 0s 32ms/step - loss: 5.0646e-04 - val_loss: 0.0021\n",
            "Epoch 8/50\n",
            "1/1 [==============================] - 0s 51ms/step - loss: 9.0400e-04 - val_loss: 0.0030\n",
            "Epoch 9/50\n",
            "1/1 [==============================] - 0s 31ms/step - loss: 0.0013 - val_loss: 0.0017\n",
            "Epoch 10/50\n",
            "1/1 [==============================] - 0s 33ms/step - loss: 7.0794e-04 - val_loss: 0.0015\n",
            "Epoch 11/50\n",
            "1/1 [==============================] - 0s 31ms/step - loss: 7.0245e-04 - val_loss: 0.0023\n",
            "Epoch 12/50\n",
            "1/1 [==============================] - 0s 30ms/step - loss: 0.0011 - val_loss: 0.0010\n",
            "Epoch 13/50\n",
            "1/1 [==============================] - 0s 32ms/step - loss: 5.0646e-04 - val_loss: 0.0021\n",
            "Epoch 14/50\n",
            "1/1 [==============================] - 0s 31ms/step - loss: 9.0393e-04 - val_loss: 0.0030\n",
            "Epoch 15/50\n",
            "1/1 [==============================] - 0s 30ms/step - loss: 0.0013 - val_loss: 0.0017\n",
            "Epoch 16/50\n",
            "1/1 [==============================] - 0s 29ms/step - loss: 7.0794e-04 - val_loss: 0.0015\n",
            "Epoch 17/50\n",
            "1/1 [==============================] - 0s 29ms/step - loss: 7.0245e-04 - val_loss: 0.0023\n",
            "Epoch 18/50\n",
            "1/1 [==============================] - 0s 37ms/step - loss: 0.0011 - val_loss: 0.0010\n",
            "Epoch 19/50\n",
            "1/1 [==============================] - 0s 30ms/step - loss: 5.0646e-04 - val_loss: 0.0021\n",
            "Epoch 20/50\n",
            "1/1 [==============================] - 0s 31ms/step - loss: 9.0393e-04 - val_loss: 0.0030\n",
            "Epoch 21/50\n",
            "1/1 [==============================] - 0s 31ms/step - loss: 0.0013 - val_loss: 0.0017\n",
            "Epoch 22/50\n",
            "1/1 [==============================] - 0s 37ms/step - loss: 7.0794e-04 - val_loss: 0.0015\n",
            "Epoch 23/50\n",
            "1/1 [==============================] - 0s 31ms/step - loss: 7.0245e-04 - val_loss: 0.0023\n",
            "Epoch 24/50\n",
            "1/1 [==============================] - 0s 29ms/step - loss: 0.0011 - val_loss: 0.0010\n",
            "Epoch 25/50\n",
            "1/1 [==============================] - 0s 37ms/step - loss: 5.0360e-04 - val_loss: 0.0021\n",
            "Epoch 26/50\n",
            "1/1 [==============================] - 0s 31ms/step - loss: 9.0393e-04 - val_loss: 0.0030\n",
            "Epoch 27/50\n",
            "1/1 [==============================] - 0s 31ms/step - loss: 0.0013 - val_loss: 0.0017\n",
            "Epoch 28/50\n",
            "1/1 [==============================] - 0s 30ms/step - loss: 7.0794e-04 - val_loss: 0.0015\n",
            "Epoch 29/50\n",
            "1/1 [==============================] - 0s 30ms/step - loss: 7.0245e-04 - val_loss: 0.0023\n",
            "Epoch 30/50\n",
            "1/1 [==============================] - 0s 29ms/step - loss: 0.0011 - val_loss: 0.0010\n",
            "Epoch 31/50\n",
            "1/1 [==============================] - 0s 32ms/step - loss: 5.0360e-04 - val_loss: 0.0021\n",
            "Epoch 32/50\n",
            "1/1 [==============================] - 0s 31ms/step - loss: 9.0393e-04 - val_loss: 0.0030\n",
            "Epoch 33/50\n",
            "1/1 [==============================] - 0s 29ms/step - loss: 0.0013 - val_loss: 0.0017\n",
            "Epoch 34/50\n",
            "1/1 [==============================] - 0s 33ms/step - loss: 7.0794e-04 - val_loss: 0.0015\n",
            "Epoch 35/50\n",
            "1/1 [==============================] - 0s 35ms/step - loss: 7.0245e-04 - val_loss: 0.0023\n",
            "Epoch 36/50\n",
            "1/1 [==============================] - 0s 51ms/step - loss: 0.0011 - val_loss: 0.0010\n",
            "Epoch 37/50\n",
            "1/1 [==============================] - 0s 31ms/step - loss: 5.0360e-04 - val_loss: 0.0021\n",
            "Epoch 38/50\n",
            "1/1 [==============================] - 0s 30ms/step - loss: 9.0393e-04 - val_loss: 0.0030\n",
            "Epoch 39/50\n",
            "1/1 [==============================] - 0s 39ms/step - loss: 0.0013 - val_loss: 0.0017\n",
            "Epoch 40/50\n",
            "1/1 [==============================] - 0s 31ms/step - loss: 7.0794e-04 - val_loss: 0.0015\n",
            "Epoch 41/50\n",
            "1/1 [==============================] - 0s 31ms/step - loss: 7.0245e-04 - val_loss: 0.0023\n",
            "Epoch 42/50\n",
            "1/1 [==============================] - 0s 32ms/step - loss: 0.0011 - val_loss: 0.0010\n",
            "Epoch 43/50\n",
            "1/1 [==============================] - 0s 32ms/step - loss: 5.0359e-04 - val_loss: 0.0021\n",
            "Epoch 44/50\n",
            "1/1 [==============================] - 0s 31ms/step - loss: 9.0393e-04 - val_loss: 0.0030\n",
            "Epoch 45/50\n",
            "1/1 [==============================] - 0s 53ms/step - loss: 0.0013 - val_loss: 0.0017\n",
            "Epoch 46/50\n",
            "1/1 [==============================] - 0s 31ms/step - loss: 7.0794e-04 - val_loss: 0.0015\n",
            "Epoch 47/50\n",
            "1/1 [==============================] - 0s 29ms/step - loss: 7.0244e-04 - val_loss: 0.0023\n",
            "Epoch 48/50\n",
            "1/1 [==============================] - 0s 30ms/step - loss: 0.0011 - val_loss: 0.0010\n",
            "Epoch 49/50\n",
            "1/1 [==============================] - 0s 30ms/step - loss: 5.0359e-04 - val_loss: 0.0021\n",
            "Epoch 50/50\n",
            "1/1 [==============================] - 0s 30ms/step - loss: 9.0392e-04 - val_loss: 0.0030\n"
          ],
          "name": "stdout"
        },
        {
          "output_type": "execute_result",
          "data": {
            "text/plain": [
              "<tensorflow.python.keras.callbacks.History at 0x7f4df154a110>"
            ]
          },
          "metadata": {
            "tags": []
          },
          "execution_count": 47
        }
      ]
    },
    {
      "cell_type": "markdown",
      "metadata": {
        "id": "mhetEtCmomTb"
      },
      "source": [
        "  trained it for 19000 epochs(took 32 min) and further trained for 50 more epochs to check the futhur accuracy."
      ]
    }
  ]
}